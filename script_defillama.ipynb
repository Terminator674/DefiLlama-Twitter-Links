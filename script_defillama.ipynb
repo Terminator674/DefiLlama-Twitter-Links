{
 "cells": [
  {
   "cell_type": "code",
   "execution_count": 1,
   "metadata": {},
   "outputs": [],
   "source": [
    "from selenium import webdriver\n",
    "from selenium.webdriver.firefox.service import Service\n",
    "from selenium.webdriver.firefox.options import Options\n",
    "from selenium.webdriver.common.action_chains import ActionChains\n",
    "from selenium.webdriver.support import expected_conditions as EC\n",
    "from selenium.webdriver.support.ui import WebDriverWait\n",
    "from selenium.webdriver.common.by import By\n",
    "import pandas as pd\n",
    "import requests\n",
    "import random\n",
    "import time\n",
    "import os\n",
    "\n",
    "current_dir = os.getcwd()\n",
    "\n",
    "firefox_exe = f\"{current_dir}/geckodriver\"\n",
    "chrome_exe = f\"{current_dir}/chromedriver\""
   ]
  },
  {
   "cell_type": "code",
   "execution_count": 2,
   "metadata": {},
   "outputs": [],
   "source": [
    "# Initialize WebDriver\n",
    "service = Service(executable_path=firefox_exe)\n",
    "\n",
    "options = Options()\n",
    "options.set_preference(\"general.smoothScroll\", True)\n",
    "\n",
    "driver = webdriver.Firefox(service=service, options=options)\n",
    "driver.get(\"https://defillama.com/\")\n",
    "\n",
    "# Wait for page content to load\n",
    "driver.maximize_window()\n",
    "time.sleep(2)\n",
    "\n",
    "actions = ActionChains(driver)\n",
    "\n",
    "for _ in range(6):\n",
    "    actions.scroll_by_amount(0, 300).perform()\n",
    "    time.sleep(.5)"
   ]
  },
  {
   "cell_type": "code",
   "execution_count": 3,
   "metadata": {},
   "outputs": [
    {
     "name": "stdout",
     "output_type": "stream",
     "text": [
      "Total links found: 3591\n"
     ]
    }
   ],
   "source": [
    "links = set()\n",
    "\n",
    "while len(links) < 3590:\n",
    "    divs = driver.find_elements(By.CLASS_NAME, \"row\")\n",
    "\n",
    "    for div in divs:\n",
    "        link = div.find_element(By.TAG_NAME, \"a\").get_attribute(\"href\")\n",
    "        links.add(link)\n",
    "        \n",
    "    actions.scroll_by_amount(0, 500).perform()\n",
    "    time.sleep(1)\n",
    "\n",
    "driver.quit()\n",
    "\n",
    "num_links = len(links)\n",
    "\n",
    "print(f\"Total links found: {num_links}\")"
   ]
  },
  {
   "cell_type": "code",
   "execution_count": 4,
   "metadata": {},
   "outputs": [],
   "source": [
    "with open (\"protocol_links.txt\", \"w\") as f:\n",
    "    for link in links:\n",
    "        f.write(f\"{link}\\n\")\n",
    "\n",
    "del links"
   ]
  },
  {
   "cell_type": "code",
   "execution_count": 5,
   "metadata": {},
   "outputs": [],
   "source": [
    "from selenium.webdriver.chrome.options import Options\n",
    "from selenium.webdriver.chrome.service import Service"
   ]
  },
  {
   "cell_type": "code",
   "execution_count": 6,
   "metadata": {},
   "outputs": [],
   "source": [
    "links = []\n",
    "\n",
    "with open(\"protocol_links.txt\", \"r\") as f:\n",
    "    for i in range(num_links):\n",
    "        links.append(f.readline().strip())"
   ]
  },
  {
   "cell_type": "code",
   "execution_count": 7,
   "metadata": {},
   "outputs": [],
   "source": [
    "response = requests.get(\n",
    "    url = 'https://headers.scrapeops.io/v1/user-agents',\n",
    "    params = {\n",
    "        'api_key': '',\n",
    "        'num_results': '96'\n",
    "    }\n",
    ")\n",
    "\n",
    "results = response.json().get(\"result\", [\"Mozilla/5.0 (Windows NT 10.0; Win64; x64) AppleWebKit/537.36 (KHTML, like Gecko) Chrome/90.0.4430.85 Safari/537.36 Edg/90.0.818.46\"])"
   ]
  },
  {
   "cell_type": "code",
   "execution_count": 8,
   "metadata": {},
   "outputs": [],
   "source": [
    "recheck_links = []\n",
    "df = pd.DataFrame({}, columns=[\"url\", \"protocol\", \"twitter_handle\"])"
   ]
  },
  {
   "cell_type": "code",
   "execution_count": 9,
   "metadata": {},
   "outputs": [],
   "source": [
    "crawled = df.shape[0]\n",
    "\n",
    "for i, link in enumerate(links[crawled:], start=crawled):\n",
    "\n",
    "    service = Service(executable_path=chrome_exe)\n",
    "    options = Options()\n",
    "\n",
    "    options.add_argument('--headless=new')\n",
    "    options.add_argument(f\"user-agent={results[random.randint(0, len(results) -1)]}\")\n",
    "    options.add_argument('--blink-settings=imagesEnabled=false')\n",
    "\n",
    "    driver = webdriver.Chrome(service=service, options=options)\n",
    "    driver.get(link)\n",
    "\n",
    "    driver.maximize_window()\n",
    "\n",
    "    try:\n",
    "        WebDriverWait(driver, 10).until(\n",
    "            EC.presence_of_element_located((By.CSS_SELECTOR, \".sc-289dd4cb-6.eksiYR\"))\n",
    "        )\n",
    "\n",
    "        WebDriverWait(driver, 10).until(\n",
    "            EC.presence_of_element_located((By.CSS_SELECTOR, \".sc-528311f8-1.hBsCiU\"))\n",
    "        )\n",
    "\n",
    "        anchor_elements = driver.find_element(By.CSS_SELECTOR, \".sc-289dd4cb-6.eksiYR\").find_elements(By.TAG_NAME, 'a')\n",
    "\n",
    "        for a in anchor_elements:\n",
    "            if a.find_element(By.TAG_NAME, \"span\").text == \"Twitter\":\n",
    "                twitter_link = a.get_attribute(\"href\")\n",
    "                break\n",
    "        \n",
    "        protocol = driver.find_element(By.CSS_SELECTOR, \".sc-528311f8-1.hBsCiU\").find_element(By.TAG_NAME, \"span\").text\n",
    "\n",
    "        df.loc[i] = [driver.current_url, protocol, twitter_link]\n",
    "\n",
    "    except Exception as e:\n",
    "        recheck_links.append(link)\n",
    "\n",
    "        try:\n",
    "            WebDriverWait(driver, 10).until(\n",
    "                EC.presence_of_element_located((By.CSS_SELECTOR, \".sc-528311f8-1.hBsCiU\"))\n",
    "            )\n",
    "\n",
    "            protocol = driver.find_element(By.CSS_SELECTOR, \".sc-528311f8-1.hBsCiU\").find_element(By.TAG_NAME, \"span\").text\n",
    "        except Exception as e:\n",
    "            protocol = \"missing\"\n",
    "\n",
    "        df.loc[i] = [driver.current_url, protocol, \"missing\"]\n",
    "    finally:\n",
    "        driver.quit()"
   ]
  },
  {
   "cell_type": "code",
   "execution_count": 10,
   "metadata": {},
   "outputs": [],
   "source": [
    "df.to_csv(\"defillama_twitter_handles.csv\")"
   ]
  }
 ],
 "metadata": {
  "kernelspec": {
   "display_name": "venv",
   "language": "python",
   "name": "python3"
  },
  "language_info": {
   "codemirror_mode": {
    "name": "ipython",
    "version": 3
   },
   "file_extension": ".py",
   "mimetype": "text/x-python",
   "name": "python",
   "nbconvert_exporter": "python",
   "pygments_lexer": "ipython3",
   "version": "3.12.2"
  }
 },
 "nbformat": 4,
 "nbformat_minor": 2
}
